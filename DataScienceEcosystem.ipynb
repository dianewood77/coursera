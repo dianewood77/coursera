{
 "cells": [
  {
   "cell_type": "markdown",
   "id": "c3e3de36-5be4-4b59-ae0c-589ef044e6b6",
   "metadata": {},
   "source": [
    "# Data Science Tools and Ecosystem"
   ]
  },
  {
   "cell_type": "markdown",
   "id": "9f9f5729-97d7-44e3-98b7-cafb03ba5975",
   "metadata": {},
   "source": [
    "In this notebook, Data Science Tools and Ecosystem are summarized."
   ]
  },
  {
   "cell_type": "markdown",
   "id": "d0ce5efe-b122-4896-9f2b-db01e182bdd5",
   "metadata": {},
   "source": [
    "**Objectives:**\n",
    "  * List popular languages for data science\n",
    "  * List commonly used libraries used by data scientists\n",
    "  * List data science tools\n"
   ]
  },
  {
   "cell_type": "markdown",
   "id": "b4fd0e5a-2c67-4436-a95b-fcc50eb8d4bf",
   "metadata": {},
   "source": [
    "Some of the popular languages that Data Scientists use are:\n",
    "1. Python\n",
    "2. R\n",
    "3. SQL\n",
    "4. Java"
   ]
  },
  {
   "cell_type": "markdown",
   "id": "d8d754f7-31b1-43c1-bcef-ba03a1ec6414",
   "metadata": {},
   "source": [
    "Some of the commonly used libraries used by Data Scientists include:\n",
    "1. NumPy\n",
    "2. Pandas\n",
    "3. Matplotlib\n",
    "   "
   ]
  },
  {
   "cell_type": "markdown",
   "id": "1f191e1b-0138-4fe7-bd83-fc7196d671e0",
   "metadata": {},
   "source": [
    "Data Science Tools | \n",
    "| -------------| \n",
    "| Jupyter Notebooks | \n",
    "| Rstudio |\n",
    "| Apache Spark | "
   ]
  },
  {
   "cell_type": "markdown",
   "id": "e8b80d7e-6fa3-4a4d-8470-9027d2793871",
   "metadata": {},
   "source": [
    "### Below are a few examples of evaluating arithmetic expressions in Python"
   ]
  },
  {
   "cell_type": "code",
   "execution_count": 43,
   "id": "00812426-0ddf-4769-ae84-b61df2d76791",
   "metadata": {},
   "outputs": [
    {
     "data": {
      "text/plain": [
       "17"
      ]
     },
     "execution_count": 43,
     "metadata": {},
     "output_type": "execute_result"
    }
   ],
   "source": [
    "#  This a simple arithmetic expression to mutiply then add integers\n",
    "(3*4)+5"
   ]
  },
  {
   "cell_type": "code",
   "execution_count": 53,
   "id": "b1d44e27-39cd-4978-868d-17e46e84094e",
   "metadata": {},
   "outputs": [
    {
     "data": {
      "text/plain": [
       "3.3333333333333335"
      ]
     },
     "execution_count": 53,
     "metadata": {},
     "output_type": "execute_result"
    }
   ],
   "source": [
    "# This will convert 200 minutes to hours by diving by 60\n",
    "200/60"
   ]
  },
  {
   "cell_type": "markdown",
   "id": "eb2f033c-99e9-4f22-9123-8fab4f509915",
   "metadata": {},
   "source": [
    "## Author\n",
    "Diane W"
   ]
  },
  {
   "cell_type": "code",
   "execution_count": null,
   "id": "7ed764c7-2043-4607-bffb-bf7f5667a6b6",
   "metadata": {},
   "outputs": [],
   "source": []
  }
 ],
 "metadata": {
  "kernelspec": {
   "display_name": "Python [conda env:base] *",
   "language": "python",
   "name": "conda-base-py"
  },
  "language_info": {
   "codemirror_mode": {
    "name": "ipython",
    "version": 3
   },
   "file_extension": ".py",
   "mimetype": "text/x-python",
   "name": "python",
   "nbconvert_exporter": "python",
   "pygments_lexer": "ipython3",
   "version": "3.12.7"
  }
 },
 "nbformat": 4,
 "nbformat_minor": 5
}
